{
 "cells": [
  {
   "cell_type": "markdown",
   "metadata": {},
   "source": [
    "# Exploring the use of `causality tools in SEAS5`"
   ]
  },
  {
   "cell_type": "markdown",
   "metadata": {},
   "source": [
    "### Diagnosing the `causal source` of a jet bias over Western Europe\n",
    "\n",
    "\n",
    "#### Author\n",
    "* [Nick Byrne](https://github.com/nenb) | University of Reading"
   ]
  },
  {
   "cell_type": "markdown",
   "metadata": {},
   "source": [
    "<hr>"
   ]
  },
  {
   "cell_type": "markdown",
   "metadata": {},
   "source": [
    "## What is this project about?"
   ]
  },
  {
   "cell_type": "markdown",
   "metadata": {},
   "source": [
    "This project attempts to establish a causal relationship between SST biases and jet stream biases in the SEAS5 forecast model. The project is motivated by two recent results from the literature.\n",
    "\n",
    "The first result (*Tietsche et al. 2020*) establishes that `SEAS5 winter reforecasts have a non-stationary SST bias` in the North Atlantic Subpolar Gyre (NASG) region. This bias has been attributed to problems with the ocean initial conditions provided by the ORAS5 product.\n",
    "\n",
    "The second result (*Simpson et al. 2018*) links SST variability in the NASG region to jet stream variability `via correlation analysis`.\n",
    "\n",
    "These results pose the questions: Are non-stationary jet stream biases present in SEAS5 reforecasts, and are they `causally related` to SST biases?"
   ]
  },
  {
   "cell_type": "markdown",
   "metadata": {},
   "source": [
    "## Outline"
   ]
  },
  {
   "cell_type": "markdown",
   "metadata": {},
   "source": [
    "This project has the following outline:\n",
    "\n",
    "* [01 - Motivation](01_nb_motivation.ipynb)\n",
    "* [02 - Jet Bias in Western Europe](02_nb_jet_bias.ipynb)\n",
    "* [03 - Causality Experiment](03_nb_causal_exp.ipynb)"
   ]
  },
  {
   "cell_type": "markdown",
   "metadata": {},
   "source": [
    "<hr>\n",
    "\n",
    "Credit to [Julia Wagemann](https://jwagemann.com) for a nice presentation on how to produce effective Jupyter documents."
   ]
  }
 ],
 "metadata": {
  "kernelspec": {
   "display_name": "Python 3",
   "language": "python",
   "name": "python3"
  },
  "language_info": {
   "codemirror_mode": {
    "name": "ipython",
    "version": 3
   },
   "file_extension": ".py",
   "mimetype": "text/x-python",
   "name": "python",
   "nbconvert_exporter": "python",
   "pygments_lexer": "ipython3",
   "version": "3.8.5"
  }
 },
 "nbformat": 4,
 "nbformat_minor": 4
}
