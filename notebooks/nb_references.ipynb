{
 "cells": [
  {
   "cell_type": "markdown",
   "metadata": {},
   "source": [
    "# References"
   ]
  },
  {
   "cell_type": "markdown",
   "metadata": {},
   "source": [
    "1. Tietsche, S., Balmaseda, M., Zuo, H. et al. *The importance of North Atlantic Ocean transports for seasonal forecasts*. Clim Dyn 55, 1995–2011 (2020). https://doi.org/10.1007/s00382-020-05364-6\n",
    "\n",
    "2. Simpson, I. R., Deser, C., McKinnon, K. A., & Barnes, E. A. (2018). *Modeled and Observed Multidecadal Variability in the North Atlantic Jet Stream and Its Connection to Sea Surface Temperatures*, Journal of Climate, 31(20), 8313-8338. https://doi.org/10.1175/JCLI-D-18-0168.1\n",
    "\n",
    "3. Simpson, I.R., Yeager, S.G., McKinnon, K.A. et al. *Decadal predictability of late winter precipitation in western Europe through an ocean-jet stream connection*. Nat. Geosci. 12, 613–619 (2019). https://doi.org/10.1038/s41561-019-0391-x\n",
    "\n",
    "4. Mosedale, T. J., Stephenson, D. B., Collins, M., & Mills, T. C. (2006). *Granger Causality of Coupled Climate Processes: Ocean Feedback on the North Atlantic Oscillation*, Journal of Climate, 19(7), 1182-1194. https://doi.org/10.1175/JCLI3653.1"
   ]
  },
  {
   "cell_type": "markdown",
   "metadata": {},
   "source": [
    "<hr>"
   ]
  }
 ],
 "metadata": {
  "kernelspec": {
   "display_name": "Python 3",
   "language": "python",
   "name": "python3"
  },
  "language_info": {
   "codemirror_mode": {
    "name": "ipython",
    "version": 3
   },
   "file_extension": ".py",
   "mimetype": "text/x-python",
   "name": "python",
   "nbconvert_exporter": "python",
   "pygments_lexer": "ipython3",
   "version": "3.8.5"
  }
 },
 "nbformat": 4,
 "nbformat_minor": 4
}
